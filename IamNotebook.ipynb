{
 "cells": [
  {
   "cell_type": "code",
   "execution_count": 1,
   "metadata": {},
   "outputs": [],
   "source": [
    "import pandas as pd\n",
    "data =  pd.read_csv(\"data.csv\", sep='\\t', low_memory=False)"
   ]
  },
  {
   "cell_type": "code",
   "execution_count": 2,
   "metadata": {},
   "outputs": [
    {
     "data": {
      "text/plain": [
       "(183872, 90)"
      ]
     },
     "execution_count": 2,
     "metadata": {},
     "output_type": "execute_result"
    }
   ],
   "source": [
    "data.shape"
   ]
  },
  {
   "cell_type": "code",
   "execution_count": 12,
   "metadata": {},
   "outputs": [],
   "source": [
    "d = data.loc[data['geotag_count'] == 0]"
   ]
  },
  {
   "cell_type": "code",
   "execution_count": 13,
   "metadata": {},
   "outputs": [
    {
     "data": {
      "text/plain": [
       "0         Skulptor Endel Taniloo viimistlemas Mihkel Ait...\n",
       "1                   Tartu kujur Endel Taniloo oma ateljees.\n",
       "2         Kujur E. Taniloo Kingissepa linna püstitatava ...\n",
       "3         Tartu skulptor E. Taniloo Saaremaa ülestõusu m...\n",
       "4         Skuptor Endel Taniloo oma ateljees helilooja R...\n",
       "5         Tartu skulptor Endel Taniloo viimistleb Saarem...\n",
       "6         Skulptorid E. Rebane (vasakul) ja E. Taniloo T...\n",
       "7                                   Skulptor Endel Taniloo.\n",
       "8         Eesti NSV teeneline kunstnik, skulptor Endel T...\n",
       "9         Skulptor Endel Taniloo viimistleb sotsialistli...\n",
       "10        Skulptorid Endel Taniloo (esiplaanil) ja Juhan...\n",
       "11                  Tartu kujur Endel Taniloo oma ateljees.\n",
       "13                                    Lisboa, Tajo aufwärts\n",
       "22                          Lisboa, Automobil-Ausladen III.\n",
       "28        Fotografier - Note:  For documentary purposes ...\n",
       "33                   Vändra, vana ja Jaama tn ristmik, 1951\n",
       "35                       Vändra, Vana tn 88, vana postimaja\n",
       "37        JBN001444 - Comício republicano - Título:\\tCom...\n",
       "39        Comício de protesto, junto à igreja dos Anjos,...\n",
       "40        Palácio da Horta Seca (1911, Joshua Benoliel) ...\n",
       "41        A Guarda dos Archeiros nas escadas da Sé (1909...\n",
       "42        Funeral de D. Carlos e de D. Luís Filipe; o ma...\n",
       "44        Visita do Rei de Saxe à legação da Alemanha em...\n",
       "45        Palácio do Patriarcado, Embaixada do Império A...\n",
       "46        Corrida de automóveis e motocicletas em rampa,...\n",
       "47        Funeral de Manuel de Arriaga, saíndo da sua re...\n",
       "51        A revolução republicana, José Relvas proclama ...\n",
       "52        Bando precatório dos estudantes a favor das ví...\n",
       "53        JBN001481 - Funeral - Título:\\tFuneral\\n\\nDime...\n",
       "54        JBN001480 - Visita às igrejas durante a Semana...\n",
       "                                ...                        \n",
       "183804    Hoone Vana-Viru tänav nr.12 (kindlustusselts \"...\n",
       "183805    Hoone Vana-Viru tänav nr.12 (kindlustusselts \"...\n",
       "183807     Tallinn; Jaani tänav/Pärnu mnt, Viru värava mägi\n",
       "183809    Viru värava tornid, Viru värava mäelt pildista...\n",
       "183810    Tallinn; Viru värava tornid, Viru värava mäelt...\n",
       "183812                                                  NaN\n",
       "183813                                           Viru värav\n",
       "183815    Rataskaevu ja Dunkri tänava nurk, \"Hotell Pete...\n",
       "183816    Rataskaevu ja Dunkri tänava nurk, \"Hotell Pete...\n",
       "183817    Rataskaevu ja Dunkri tänava nurk, \"Hotell Pete...\n",
       "183818    Tallinn; Rataskaevu ja Dunkri tänava nurk, \"Ho...\n",
       "183820                                        Raekoja plats\n",
       "183823                       Russalka, puiesteelt vaadatuna\n",
       "183829    Tallinn; Valli tänav, Viruvärava mägi, Jaani t...\n",
       "183832       Tallinn; Vaade Väike-Rannavärava teelt linnale\n",
       "183836           Niguliste kirik Rüütli/Rataskaevu tänavalt\n",
       "183838                                       Oleviste kirik\n",
       "183841    Vaade Kiek in de Kök'ile Rüütli/Rataskaevu tän...\n",
       "183847                    Vaade Toompeale Balti jaama poolt\n",
       "183851    Tallinn; EKA (Eesti Kinnituse A/S) hoone, osa ...\n",
       "183855                Tallinn; Vaade Maarjamäelt Tallinnale\n",
       "183857                Tallinn; Estonia teatrimaja, tagakülg\n",
       "183859    Kaarli kirik, esi- ja külgvaade Paldiski mnt p...\n",
       "183860    Tallinn; Kaarli kirik, esi- ja külgvaade Paldi...\n",
       "183862               Tallinn; Jaani kirik, vaade Harjumäelt\n",
       "183864               Tallinn; Paks Margareeta ja Rannavärav\n",
       "183866                              Paks Margareeta, vangla\n",
       "183868                               Kadrioru loss, esikülg\n",
       "183870         Estonia teatrimaja, vaade Estonia puiesteelt\n",
       "183871    Tallinn. Estonia teater; Estonia teatrimaja, v...\n",
       "Name: description, Length: 78884, dtype: object"
      ]
     },
     "execution_count": 13,
     "metadata": {},
     "output_type": "execute_result"
    }
   ],
   "source": [
    "d[\"description\"]"
   ]
  },
  {
   "cell_type": "code",
   "execution_count": null,
   "metadata": {},
   "outputs": [],
   "source": []
  }
 ],
 "metadata": {
  "kernelspec": {
   "display_name": "Python 3",
   "language": "python",
   "name": "python3"
  },
  "language_info": {
   "codemirror_mode": {
    "name": "ipython",
    "version": 3
   },
   "file_extension": ".py",
   "mimetype": "text/x-python",
   "name": "python",
   "nbconvert_exporter": "python",
   "pygments_lexer": "ipython3",
   "version": "3.7.3"
  }
 },
 "nbformat": 4,
 "nbformat_minor": 2
}
